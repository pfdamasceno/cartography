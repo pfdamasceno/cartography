{
 "cells": [
  {
   "cell_type": "code",
   "execution_count": null,
   "metadata": {},
   "outputs": [],
   "source": [
    "import matplotlib.pyplot as plt\n",
    "import networkx as nx\n",
    "import numpy as np\n",
    "import pandas as pd\n",
    "import sys\n",
    "\n",
    "\n",
    "from bokeh.io import show, output_file, output_notebook\n",
    "from bokeh.models import Plot, Range1d, MultiLine, Circle, HoverTool, TapTool, BoxSelectTool, StaticLayoutProvider\n",
    "from bokeh.models.graphs import from_networkx, NodesAndLinkedEdges, EdgesAndLinkedNodes\n",
    "from bokeh.palettes import Spectral4, Spectral8, Spectral11\n",
    "from scipy.io import loadmat\n",
    "\n",
    "output_notebook()\n",
    "%matplotlib inline"
   ]
  },
  {
   "cell_type": "code",
   "execution_count": null,
   "metadata": {},
   "outputs": [],
   "source": [
    "connectivity = loadmat(\"../data/aux_meanACS69.mat\")['meanACS']\n",
    "region_names = pd.read_csv('../data/dk_names.csv')['Atlas']\n",
    "coords = pd.read_csv('../data/dk.csv').set_index('Name')\n",
    "\n",
    "conn = pd.DataFrame(connectivity)\n",
    "conn.columns = list(region_names)\n",
    "conn.index = list(region_names)"
   ]
  },
  {
   "cell_type": "code",
   "execution_count": null,
   "metadata": {},
   "outputs": [],
   "source": [
    "for region in region_names:\n",
    "    if region not in coords.index:\n",
    "        conn = conn.drop(index=region, columns=region)\n",
    "\n",
    "# clip out any connectivity below cutoff (e.g. 2)\n",
    "cutoff = 2.\n",
    "conn = conn.clip(lower=cutoff).replace(cutoff, 0)\n",
    "\n",
    "coords = coords.sort_values(by=['hemisphere','lobe'])"
   ]
  },
  {
   "cell_type": "code",
   "execution_count": null,
   "metadata": {},
   "outputs": [],
   "source": [
    "# assign coordinates to each region, first in the top, then bottom. Always from (0,0)\n",
    "radius = 1.0\n",
    "positions = {}\n",
    "shift = 2*np.pi/136\n",
    "for i in range(68):\n",
    "    region = coords.index[i]\n",
    "    if i < 34:\n",
    "        x = radius*np.cos(2*np.pi*i/68 + np.pi/2. + shift)\n",
    "        y = radius*np.sin(2*np.pi*i/68 + np.pi/2. + shift)\n",
    "    else:\n",
    "        i = i - 33\n",
    "        x = radius*np.cos(-2*np.pi*i/68 + np.pi/2. + shift)\n",
    "        y = radius*np.sin(-2*np.pi*i/68 + np.pi/2. + shift)\n",
    "    positions.update({region:[x,y]})"
   ]
  },
  {
   "cell_type": "code",
   "execution_count": null,
   "metadata": {},
   "outputs": [],
   "source": [
    "def calculate_color_list(regions_list):\n",
    "    # create color dictionary\n",
    "    color_list = []\n",
    "    ordered_names = regions_list\n",
    "    for region in ordered_names:\n",
    "        lobe = coords['lobe'].loc[region]\n",
    "        lobe_index = list(np.unique(coords.lobe)).index(lobe)\n",
    "        color = Spectral11[2*lobe_index]\n",
    "        color_list.append(color)\n",
    "    return(color_list)"
   ]
  },
  {
   "cell_type": "code",
   "execution_count": null,
   "metadata": {},
   "outputs": [],
   "source": []
  },
  {
   "cell_type": "code",
   "execution_count": null,
   "metadata": {},
   "outputs": [],
   "source": [
    "TOOLTIPS = \"\"\"\n",
    "    <div>\n",
    "        <div>\n",
    "            <span style=\"font-size: 8px; font-weight: bold;\">@name</span><br>\n",
    "            <span style=\"font-size: 8px; \">@n0, @w0</span><br>\n",
    "            <span style=\"font-size: 8px; \">@n1, @w1</span><br>\n",
    "            <span style=\"font-size: 8px; \">@n2, @w2</span><br>\n",
    "            <span style=\"font-size: 8px; \">@n3, @w3</span><br>\n",
    "            <span style=\"font-size: 8px; \">@n4, @w4</span><br>\n",
    "            <span style=\"font-size: 8px; \">@n5, @w5</span><br>\n",
    "            <span style=\"font-size: 8px; \">@n6, @w6</span><br>\n",
    "            <span style=\"font-size: 8px; \">@n7, @w7</span><br>\n",
    "            <span style=\"font-size: 8px; \">@n8, @w8</span><br>\n",
    "            <span style=\"font-size: 8px; \">@n9, @w9</span><br>\n",
    "            <span style=\"font-size: 8px; \">@n10, @w10</span><br>\n",
    "            <span style=\"font-size: 8px; \">@n11, @w11</span><br>\n",
    "        </div>\n",
    "    </div>\n",
    "\"\"\""
   ]
  },
  {
   "cell_type": "code",
   "execution_count": null,
   "metadata": {},
   "outputs": [],
   "source": [
    "G = nx.from_pandas_adjacency(conn)\n",
    "\n",
    "plot = Plot(plot_width=600, plot_height=800,\n",
    "            x_range=Range1d(-1.5,1.5), y_range=Range1d(-1.5,1.5))\n",
    "\n",
    "plot.title.text = \"Brain Connectivity - DK Atlas\"\n",
    "\n",
    "plot.add_tools(HoverTool(tooltips=TOOLTIPS), TapTool(), BoxSelectTool())\n",
    "\n",
    "graph_renderer = from_networkx(G, nx.spring_layout, scale=1, center=(0,0))\n",
    "\n",
    "graph_renderer.node_renderer.glyph = Circle(size=12, fill_color='color')\n",
    "graph_renderer.node_renderer.selection_glyph = Circle(size=15, fill_color='color')\n",
    "graph_renderer.node_renderer.hover_glyph = Circle(size=18, fill_color='color')\n",
    "\n",
    "graph_renderer.edge_renderer.glyph = MultiLine(line_color=\"#CCCCCC\", line_alpha=0.8, line_width=3)\n",
    "graph_renderer.edge_renderer.selection_glyph = MultiLine(line_color=Spectral4[1], line_width='log_weight')\n",
    "graph_renderer.edge_renderer.hover_glyph = MultiLine(line_color=Spectral4[2], line_alpha=0.5, line_width=3)\n",
    "\n",
    "graph_renderer.inspection_policy = NodesAndLinkedEdges()\n",
    "graph_renderer.selection_policy = NodesAndLinkedEdges()\n",
    "\n",
    "# make positions fixed according to pre-calculated values\n",
    "fixed_layout_provider = StaticLayoutProvider(graph_layout=positions)\n",
    "graph_renderer.layout_provider = fixed_layout_provider\n",
    "\n",
    "color_list = calculate_color_list(graph_renderer.node_renderer.data_source.data['index'])\n",
    "\n",
    "graph_renderer.node_renderer.data_source.data.update({'name':graph_renderer.node_renderer.data_source.data['index']})\n",
    "\n",
    "for i in range(12):\n",
    "    graph_renderer.node_renderer.data_source.data.update({'n'+str(i):neighbors_df[i]})\n",
    "    graph_renderer.node_renderer.data_source.data.update({'w'+str(i):weights_df[i]})\n",
    "    \n",
    "\n",
    "graph_renderer.node_renderer.data_source.data.update({'color':color_list})\n",
    "graph_renderer.edge_renderer.data_source.data.update({'log_weight':list(np.log(graph_renderer.edge_renderer.data_source.data['weight']))})\n",
    "\n",
    "plot.renderers.append(graph_renderer)\n",
    "# output_file(\"interactive_graphs.html\")\n",
    "output_notebook()\n",
    "show(plot)\n"
   ]
  },
  {
   "cell_type": "code",
   "execution_count": null,
   "metadata": {},
   "outputs": [],
   "source": [
    "neighbor_list = []\n",
    "neighbors_weights = []\n",
    "\n",
    "for region in graph_renderer.node_renderer.data_source.data['index']:\n",
    "    neighbor_list.append([n for n in G.neighbors(region)])\n",
    "\n",
    "for c in range(len(conn.columns)):\n",
    "    n = list(conn[conn.columns[c]][conn[conn.columns[c]] > 0])\n",
    "    neighbors_weights.append(n)\n",
    "\n",
    "neighbors_df = pd.DataFrame(neighbor_list)\n",
    "weights_df = pd.DataFrame(neighbors_weights)"
   ]
  },
  {
   "cell_type": "code",
   "execution_count": null,
   "metadata": {},
   "outputs": [],
   "source": []
  },
  {
   "cell_type": "markdown",
   "metadata": {},
   "source": [
    "### todo:\n",
    "- add lobe legend\n",
    "- highlight nodes with connection\n",
    "- add [Bezier](https://bokeh.pydata.org/en/latest/docs/user_guide/graph.html)\n",
    "- add information: node name and strength of connection\n",
    "- remove NaN\n",
    "- Add \"threshold\" option\n",
    "\n",
    "### done:\n",
    "- add name to nodes with connection\n",
    "- right vs left\n",
    "- color nodes by lobe\n"
   ]
  },
  {
   "cell_type": "code",
   "execution_count": null,
   "metadata": {},
   "outputs": [],
   "source": []
  }
 ],
 "metadata": {
  "kernelspec": {
   "display_name": "py36-brain",
   "language": "python",
   "name": "py36-brain"
  },
  "language_info": {
   "codemirror_mode": {
    "name": "ipython",
    "version": 3
   },
   "file_extension": ".py",
   "mimetype": "text/x-python",
   "name": "python",
   "nbconvert_exporter": "python",
   "pygments_lexer": "ipython3",
   "version": "3.6.5"
  }
 },
 "nbformat": 4,
 "nbformat_minor": 2
}
